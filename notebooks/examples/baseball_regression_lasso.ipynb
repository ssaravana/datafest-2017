{
 "cells": [
  {
   "cell_type": "markdown",
   "metadata": {
    "deletable": true,
    "editable": true
   },
   "source": [
    "# Baseball  Regression Modeling Model Selection Using L1"
   ]
  },
  {
   "cell_type": "markdown",
   "metadata": {
    "deletable": true,
    "editable": true
   },
   "source": [
    "## Learning Objectives"
   ]
  },
  {
   "cell_type": "markdown",
   "metadata": {
    "deletable": true,
    "editable": true
   },
   "source": [
    "Run a basic regression using L1 regularization to conduct variable selection\n",
    "    * run a simple OLS\n",
    "    * analyze output\n",
    "    * run L1 regression and identify best regularization parameter\n",
    "    * interpret model parameters"
   ]
  },
  {
   "cell_type": "markdown",
   "metadata": {
    "deletable": true,
    "editable": true
   },
   "source": [
    "## Imports"
   ]
  },
  {
   "cell_type": "code",
   "execution_count": 1,
   "metadata": {
    "collapsed": true,
    "deletable": true,
    "editable": true
   },
   "outputs": [],
   "source": [
    "import pandas as pd\n",
    "import statsmodels.api as sms\n",
    "import sklearn.linear_model as lm"
   ]
  },
  {
   "cell_type": "code",
   "execution_count": 2,
   "metadata": {
    "collapsed": false,
    "deletable": true,
    "editable": true
   },
   "outputs": [],
   "source": [
    "%matplotlib inline"
   ]
  },
  {
   "cell_type": "markdown",
   "metadata": {
    "deletable": true,
    "editable": true
   },
   "source": [
    "## Get Data and Subset Data"
   ]
  },
  {
   "cell_type": "code",
   "execution_count": 3,
   "metadata": {
    "collapsed": true,
    "deletable": true,
    "editable": true
   },
   "outputs": [],
   "source": [
    "# retrieve csv file and store to dataframe\n",
    "df = pd.read_csv('baseball_data.csv')\n",
    "\n",
    "# subset the dataframe removing rows with NULL values\n",
    "bix = df.notnull().all(axis=1)\n",
    "df = df[bix]"
   ]
  },
  {
   "cell_type": "markdown",
   "metadata": {
    "deletable": true,
    "editable": true
   },
   "source": [
    "## A First Regression Model Using All Variables"
   ]
  },
  {
   "cell_type": "markdown",
   "metadata": {
    "deletable": true,
    "editable": true
   },
   "source": [
    "The hope here is that we can get a batch look at how the variables relate to the target. This unfortunately fails due to tight correlations within the covariates."
   ]
  },
  {
   "cell_type": "code",
   "execution_count": 4,
   "metadata": {
    "collapsed": true
   },
   "outputs": [],
   "source": [
    "# separate the covariates from the target\n",
    "covariates = df.iloc[:, 1:]\n",
    "covariates_with_ones = sms.add_constant(covariates)\n",
    "target = df.salary_in_thousands_of_dollars"
   ]
  },
  {
   "cell_type": "code",
   "execution_count": 5,
   "metadata": {
    "collapsed": false,
    "deletable": true,
    "editable": true
   },
   "outputs": [],
   "source": [
    "# build first model\n",
    "model = sms.OLS(target, covariates_with_ones)"
   ]
  },
  {
   "cell_type": "markdown",
   "metadata": {
    "deletable": true,
    "editable": true
   },
   "source": [
    "Notes:\n",
    "    * we acheive a fairly high R2 right off the bat with this approach .711\n",
    "    * a couple of variables are significant or nearly so\n",
    "        - on_base_percentage\n",
    "        - number_of_runs\n",
    "        - number_of_runs_batted_in\n",
    "        - number_of_strike_outs\n",
    "        - number_of_stolen_bases\n",
    "        - indicator_of_free_agency_eligibility\n",
    "        - indicator_of_free_agent_in_1991_1992\n",
    "        - indicator_of_arbitration_eligibility\n",
    "        - indicator_of_arbitration_in_1991_1992\n",
    "    * there are a large number of variables, how do we know what should be in the model and what should be out?\n",
    "    * warning 2 in the printed output below states there may be high multicollinearity (high correlation between covariates)"
   ]
  },
  {
   "cell_type": "code",
   "execution_count": 6,
   "metadata": {
    "collapsed": false,
    "deletable": true,
    "editable": true,
    "scrolled": true
   },
   "outputs": [],
   "source": [
    "result = model.fit()"
   ]
  },
  {
   "cell_type": "code",
   "execution_count": 7,
   "metadata": {
    "collapsed": false,
    "deletable": true,
    "editable": true
   },
   "outputs": [
    {
     "name": "stdout",
     "output_type": "stream",
     "text": [
      "                                  OLS Regression Results                                  \n",
      "==========================================================================================\n",
      "Dep. Variable:     salary_in_thousands_of_dollars   R-squared:                       0.711\n",
      "Model:                                        OLS   Adj. R-squared:                  0.696\n",
      "Method:                             Least Squares   F-statistic:                     47.90\n",
      "Date:                            Fri, 24 Mar 2017   Prob (F-statistic):           4.71e-74\n",
      "Time:                                    10:46:30   Log-Likelihood:                -2602.7\n",
      "No. Observations:                             329   AIC:                             5239.\n",
      "Df Residuals:                                 312   BIC:                             5304.\n",
      "Df Model:                                      16                                         \n",
      "Covariance Type:                        nonrobust                                         \n",
      "=========================================================================================================\n",
      "                                            coef    std err          t      P>|t|      [0.025      0.975]\n",
      "---------------------------------------------------------------------------------------------------------\n",
      "const                                   358.1683    328.898      1.089      0.277    -288.971    1005.307\n",
      "batting_average                        2888.8905   2791.277      1.035      0.301   -2603.216    8380.997\n",
      "on_base_percentage                    -3837.4642   2399.913     -1.599      0.111   -8559.525     884.596\n",
      "number_of_runs                            8.9410      5.541      1.614      0.108      -1.962      19.844\n",
      "number_of_hits                           -2.6934      3.291     -0.818      0.414      -9.168       3.782\n",
      "number_of_doubles                        -2.1494      8.467     -0.254      0.800     -18.810      14.511\n",
      "number_of_triples                       -22.7478     21.212     -1.072      0.284     -64.485      18.989\n",
      "number_of_home_runs                      12.7920     12.377      1.034      0.302     -11.561      37.145\n",
      "number_of_runs_batted_in                 19.2680      4.975      3.873      0.000       9.480      29.056\n",
      "number_of_walks                           5.6493      4.474      1.263      0.208      -3.154      14.453\n",
      "number_of_strike_outs                    -9.9699      2.106     -4.733      0.000     -14.114      -5.825\n",
      "number_of_stolen_bases                   12.4465      4.654      2.674      0.008       3.289      21.604\n",
      "number_of_errors                        -10.3114      7.380     -1.397      0.163     -24.832       4.209\n",
      "indicator_of_free_agency_eligibility   1401.9627    106.539     13.159      0.000    1192.337    1611.588\n",
      "indicator_of_free_agent_in_1991_1992   -389.6385    136.471     -2.855      0.005    -658.158    -121.119\n",
      "indicator_of_arbitration_eligibility    801.9127    116.551      6.880      0.000     572.588    1031.238\n",
      "indicator_of_arbitration_in_1991_1992   398.7514    247.671      1.610      0.108     -88.565     886.067\n",
      "==============================================================================\n",
      "Omnibus:                       29.533   Durbin-Watson:                   1.591\n",
      "Prob(Omnibus):                  0.000   Jarque-Bera (JB):               61.562\n",
      "Skew:                           0.480   Prob(JB):                     4.29e-14\n",
      "Kurtosis:                       4.889   Cond. No.                     1.45e+04\n",
      "==============================================================================\n",
      "\n",
      "Warnings:\n",
      "[1] Standard Errors assume that the covariance matrix of the errors is correctly specified.\n",
      "[2] The condition number is large, 1.45e+04. This might indicate that there are\n",
      "strong multicollinearity or other numerical problems.\n"
     ]
    }
   ],
   "source": [
    "print(result.summary())"
   ]
  },
  {
   "cell_type": "markdown",
   "metadata": {
    "deletable": true,
    "editable": true
   },
   "source": [
    "## Model Selection Using L1 Regression"
   ]
  },
  {
   "cell_type": "markdown",
   "metadata": {
    "deletable": true,
    "editable": true
   },
   "source": [
    "Notes:\n",
    "        * fit L1 penealized model using BIC criteria to select a \"best\" fit\n",
    "        * this may force some of the parameters to zero\n",
    "        * the nonzero variables are the selected variables\n",
    "        * last we will refit the \"best\" model and interpret the variables"
   ]
  },
  {
   "cell_type": "code",
   "execution_count": 8,
   "metadata": {
    "collapsed": false,
    "deletable": true,
    "editable": true
   },
   "outputs": [
    {
     "data": {
      "text/plain": [
       "Index([u'const', u'batting_average', u'on_base_percentage', u'number_of_runs',\n",
       "       u'number_of_hits', u'number_of_doubles', u'number_of_triples',\n",
       "       u'number_of_home_runs', u'number_of_runs_batted_in', u'number_of_walks',\n",
       "       u'number_of_strike_outs', u'number_of_stolen_bases',\n",
       "       u'number_of_errors', u'indicator_of_free_agency_eligibility',\n",
       "       u'indicator_of_free_agent_in_1991_1992',\n",
       "       u'indicator_of_arbitration_eligibility',\n",
       "       u'indicator_of_arbitration_in_1991_1992'],\n",
       "      dtype='object')"
      ]
     },
     "execution_count": 8,
     "metadata": {},
     "output_type": "execute_result"
    }
   ],
   "source": [
    "covariates_with_ones.columns"
   ]
  },
  {
   "cell_type": "code",
   "execution_count": 9,
   "metadata": {
    "collapsed": false,
    "deletable": true,
    "editable": true
   },
   "outputs": [],
   "source": [
    "# prepare the model\n",
    "reg = lm.LassoLarsIC(normalize=True, criterion='bic', fit_intercept=True)"
   ]
  },
  {
   "cell_type": "code",
   "execution_count": 10,
   "metadata": {
    "collapsed": false,
    "deletable": true,
    "editable": true
   },
   "outputs": [
    {
     "data": {
      "text/plain": [
       "LassoLarsIC(copy_X=True, criterion='bic', eps=2.2204460492503131e-16,\n",
       "      fit_intercept=True, max_iter=500, normalize=True, positive=False,\n",
       "      precompute='auto', verbose=False)"
      ]
     },
     "execution_count": 10,
     "metadata": {},
     "output_type": "execute_result"
    }
   ],
   "source": [
    "# fit the model\n",
    "reg.fit(covariates_with_ones, df.salary_in_thousands_of_dollars)"
   ]
  },
  {
   "cell_type": "code",
   "execution_count": 11,
   "metadata": {
    "collapsed": false,
    "deletable": true,
    "editable": true
   },
   "outputs": [
    {
     "data": {
      "text/plain": [
       "array([    0.        ,     0.        ,     0.        ,     6.31852769,\n",
       "           0.        ,     0.        ,     0.        ,    11.10020813,\n",
       "          15.11688211,     0.        ,    -5.2473569 ,     6.58256519,\n",
       "          -6.24006217,  1265.34889908,  -227.93452271,   693.88293699,\n",
       "         204.81194441])"
      ]
     },
     "execution_count": 11,
     "metadata": {},
     "output_type": "execute_result"
    }
   ],
   "source": [
    "# review coefficients after the fit\n",
    "reg.coef_"
   ]
  },
  {
   "cell_type": "code",
   "execution_count": 12,
   "metadata": {
    "collapsed": false,
    "deletable": true,
    "editable": true
   },
   "outputs": [
    {
     "data": {
      "text/plain": [
       "['number_of_runs',\n",
       " 'number_of_home_runs',\n",
       " 'number_of_runs_batted_in',\n",
       " 'number_of_strike_outs',\n",
       " 'number_of_stolen_bases',\n",
       " 'number_of_errors',\n",
       " 'indicator_of_free_agency_eligibility',\n",
       " 'indicator_of_free_agent_in_1991_1992',\n",
       " 'indicator_of_arbitration_eligibility',\n",
       " 'indicator_of_arbitration_in_1991_1992']"
      ]
     },
     "execution_count": 12,
     "metadata": {},
     "output_type": "execute_result"
    }
   ],
   "source": [
    "# Selecting variables with non-zero coefficients\n",
    "selected_columns = []\n",
    "\n",
    "for i in range(len(reg.coef_)):\n",
    "    if abs(reg.coef_[i]) > 0:\n",
    "        selected_columns.append(covariates_with_ones.columns[i])\n",
    "        \n",
    "selected_columns"
   ]
  },
  {
   "cell_type": "markdown",
   "metadata": {
    "collapsed": true,
    "deletable": true,
    "editable": true
   },
   "source": [
    "## Rerun Regression on Selected Variables"
   ]
  },
  {
   "cell_type": "markdown",
   "metadata": {
    "deletable": true,
    "editable": true
   },
   "source": [
    "Notes:\n",
    "    * Using the best model from above, we re-fit without L1 regularization.\n",
    "    * On the first fit below number_of_runs and number_of_walks are not significant so we re-fit after dropping the variables."
   ]
  },
  {
   "cell_type": "markdown",
   "metadata": {
    "deletable": true,
    "editable": true
   },
   "source": [
    "##### Model 1"
   ]
  },
  {
   "cell_type": "code",
   "execution_count": 13,
   "metadata": {
    "collapsed": false,
    "deletable": true,
    "editable": true
   },
   "outputs": [],
   "source": [
    "model = sms.OLS(target, \n",
    "                covariates_with_ones[selected_columns])"
   ]
  },
  {
   "cell_type": "code",
   "execution_count": 14,
   "metadata": {
    "collapsed": false,
    "deletable": true,
    "editable": true
   },
   "outputs": [],
   "source": [
    "results = model.fit()"
   ]
  },
  {
   "cell_type": "code",
   "execution_count": 15,
   "metadata": {
    "collapsed": false,
    "deletable": true,
    "editable": true
   },
   "outputs": [
    {
     "name": "stdout",
     "output_type": "stream",
     "text": [
      "                                  OLS Regression Results                                  \n",
      "==========================================================================================\n",
      "Dep. Variable:     salary_in_thousands_of_dollars   R-squared:                       0.855\n",
      "Model:                                        OLS   Adj. R-squared:                  0.850\n",
      "Method:                             Least Squares   F-statistic:                     187.4\n",
      "Date:                            Fri, 24 Mar 2017   Prob (F-statistic):          4.37e-127\n",
      "Time:                                    10:46:30   Log-Likelihood:                -2606.5\n",
      "No. Observations:                             329   AIC:                             5233.\n",
      "Df Residuals:                                 319   BIC:                             5271.\n",
      "Df Model:                                      10                                         \n",
      "Covariance Type:                        nonrobust                                         \n",
      "=========================================================================================================\n",
      "                                            coef    std err          t      P>|t|      [0.025      0.975]\n",
      "---------------------------------------------------------------------------------------------------------\n",
      "number_of_runs                            5.2216      3.152      1.657      0.099      -0.979      11.423\n",
      "number_of_home_runs                      23.6877      9.090      2.606      0.010       5.804      41.572\n",
      "number_of_runs_batted_in                 16.2897      3.713      4.387      0.000       8.985      23.595\n",
      "number_of_strike_outs                   -10.4722      1.671     -6.269      0.000     -13.759      -7.186\n",
      "number_of_stolen_bases                   12.1743      4.453      2.734      0.007       3.414      20.935\n",
      "number_of_errors                        -11.7164      7.074     -1.656      0.099     -25.634       2.201\n",
      "indicator_of_free_agency_eligibility   1374.6634     99.981     13.749      0.000    1177.958    1571.368\n",
      "indicator_of_free_agent_in_1991_1992   -381.6322    135.774     -2.811      0.005    -648.758    -114.506\n",
      "indicator_of_arbitration_eligibility    764.9945    112.882      6.777      0.000     542.906     987.083\n",
      "indicator_of_arbitration_in_1991_1992   387.5473    246.271      1.574      0.117     -96.974     872.069\n",
      "==============================================================================\n",
      "Omnibus:                       34.239   Durbin-Watson:                   1.536\n",
      "Prob(Omnibus):                  0.000   Jarque-Bera (JB):               72.499\n",
      "Skew:                           0.551   Prob(JB):                     1.81e-16\n",
      "Kurtosis:                       5.019   Cond. No.                         665.\n",
      "==============================================================================\n",
      "\n",
      "Warnings:\n",
      "[1] Standard Errors assume that the covariance matrix of the errors is correctly specified.\n"
     ]
    }
   ],
   "source": [
    "print(results.summary())"
   ]
  },
  {
   "cell_type": "markdown",
   "metadata": {
    "deletable": true,
    "editable": true
   },
   "source": [
    "##### Model 2 - Removed insignificant variables (including the constant term)"
   ]
  },
  {
   "cell_type": "markdown",
   "metadata": {
    "deletable": true,
    "editable": true
   },
   "source": [
    "Interpretation:\n",
    "    * for continuous variables number_runs_batted_in and number_of_stolen_bases we interpret the coefficients as\n",
    "        - a one unit change in number_of_runs_batted_in corresponds to a 18.7 thousand dollar increase in salary\n",
    "        - a one unit change in number_of_stolen_bases corresponds to a 11.4 thousand dollar increase in salary\n",
    "    * for indicator variables we interpret the coefficients as\n",
    "        - when a person is free agent eligible we see an average 1.33 million increase in salary\n",
    "        - when a person is arbitration eligible we see an average .87 million increase in salary"
   ]
  },
  {
   "cell_type": "code",
   "execution_count": 16,
   "metadata": {
    "collapsed": true,
    "deletable": true,
    "editable": true
   },
   "outputs": [],
   "source": [
    "model = sms.OLS(target, \n",
    "                    covariates_with_ones[[\n",
    "                        'number_of_home_runs',\n",
    "                        'number_of_runs_batted_in',\n",
    "                        'number_of_stolen_bases',\n",
    "                        'indicator_of_free_agency_eligibility',\n",
    "                        'indicator_of_free_agent_in_1991_1992',\n",
    "                        'indicator_of_arbitration_eligibility'\n",
    "                        ]])"
   ]
  },
  {
   "cell_type": "code",
   "execution_count": 17,
   "metadata": {
    "collapsed": true,
    "deletable": true,
    "editable": true
   },
   "outputs": [],
   "source": [
    "results = model.fit()"
   ]
  },
  {
   "cell_type": "code",
   "execution_count": 18,
   "metadata": {
    "collapsed": false,
    "deletable": true,
    "editable": true
   },
   "outputs": [
    {
     "name": "stdout",
     "output_type": "stream",
     "text": [
      "                                  OLS Regression Results                                  \n",
      "==========================================================================================\n",
      "Dep. Variable:     salary_in_thousands_of_dollars   R-squared:                       0.829\n",
      "Model:                                        OLS   Adj. R-squared:                  0.826\n",
      "Method:                             Least Squares   F-statistic:                     261.9\n",
      "Date:                            Fri, 24 Mar 2017   Prob (F-statistic):          7.70e-121\n",
      "Time:                                    10:46:30   Log-Likelihood:                -2632.7\n",
      "No. Observations:                             329   AIC:                             5277.\n",
      "Df Residuals:                                 323   BIC:                             5300.\n",
      "Df Model:                                       6                                         \n",
      "Covariance Type:                        nonrobust                                         \n",
      "========================================================================================================\n",
      "                                           coef    std err          t      P>|t|      [0.025      0.975]\n",
      "--------------------------------------------------------------------------------------------------------\n",
      "number_of_home_runs                     14.1946      9.087      1.562      0.119      -3.683      32.072\n",
      "number_of_runs_batted_in                10.8676      2.670      4.070      0.000       5.614      16.121\n",
      "number_of_stolen_bases                   8.8744      3.636      2.441      0.015       1.721      16.028\n",
      "indicator_of_free_agency_eligibility  1374.9731    104.668     13.137      0.000    1169.057    1580.890\n",
      "indicator_of_free_agent_in_1991_1992  -468.8469    144.174     -3.252      0.001    -752.486    -185.208\n",
      "indicator_of_arbitration_eligibility   785.3447    114.384      6.866      0.000     560.313    1010.377\n",
      "==============================================================================\n",
      "Omnibus:                       70.805   Durbin-Watson:                   1.309\n",
      "Prob(Omnibus):                  0.000   Jarque-Bera (JB):              191.570\n",
      "Skew:                           0.996   Prob(JB):                     2.52e-42\n",
      "Kurtosis:                       6.163   Cond. No.                         217.\n",
      "==============================================================================\n",
      "\n",
      "Warnings:\n",
      "[1] Standard Errors assume that the covariance matrix of the errors is correctly specified.\n"
     ]
    }
   ],
   "source": [
    "print(results.summary())"
   ]
  },
  {
   "cell_type": "markdown",
   "metadata": {
    "deletable": true,
    "editable": true
   },
   "source": [
    "##### Model 3 - Further removal of insignificant variable"
   ]
  },
  {
   "cell_type": "code",
   "execution_count": 19,
   "metadata": {
    "collapsed": true,
    "deletable": true,
    "editable": true
   },
   "outputs": [],
   "source": [
    "model = sms.OLS(target, \n",
    "                    covariates_with_ones[[\n",
    "                        'number_of_runs_batted_in',\n",
    "                        'number_of_stolen_bases',\n",
    "                        'indicator_of_free_agency_eligibility',\n",
    "                        'indicator_of_free_agent_in_1991_1992',\n",
    "                        'indicator_of_arbitration_eligibility'\n",
    "                        ]])"
   ]
  },
  {
   "cell_type": "code",
   "execution_count": 20,
   "metadata": {
    "collapsed": true,
    "deletable": true,
    "editable": true
   },
   "outputs": [],
   "source": [
    "results = model.fit()"
   ]
  },
  {
   "cell_type": "code",
   "execution_count": 21,
   "metadata": {
    "collapsed": false,
    "deletable": true,
    "editable": true
   },
   "outputs": [
    {
     "name": "stdout",
     "output_type": "stream",
     "text": [
      "                                  OLS Regression Results                                  \n",
      "==========================================================================================\n",
      "Dep. Variable:     salary_in_thousands_of_dollars   R-squared:                       0.828\n",
      "Model:                                        OLS   Adj. R-squared:                  0.826\n",
      "Method:                             Least Squares   F-statistic:                     312.4\n",
      "Date:                            Fri, 24 Mar 2017   Prob (F-statistic):          1.39e-121\n",
      "Time:                                    10:46:30   Log-Likelihood:                -2633.9\n",
      "No. Observations:                             329   AIC:                             5278.\n",
      "Df Residuals:                                 324   BIC:                             5297.\n",
      "Df Model:                                       5                                         \n",
      "Covariance Type:                        nonrobust                                         \n",
      "========================================================================================================\n",
      "                                           coef    std err          t      P>|t|      [0.025      0.975]\n",
      "--------------------------------------------------------------------------------------------------------\n",
      "number_of_runs_batted_in                14.5148      1.299     11.176      0.000      11.960      17.070\n",
      "number_of_stolen_bases                   7.3994      3.519      2.103      0.036       0.476      14.323\n",
      "indicator_of_free_agency_eligibility  1376.2374    104.897     13.120      0.000    1169.872    1582.602\n",
      "indicator_of_free_agent_in_1991_1992  -511.8517    141.835     -3.609      0.000    -790.886    -232.817\n",
      "indicator_of_arbitration_eligibility   753.5876    112.813      6.680      0.000     531.650     975.525\n",
      "==============================================================================\n",
      "Omnibus:                       71.364   Durbin-Watson:                   1.278\n",
      "Prob(Omnibus):                  0.000   Jarque-Bera (JB):              183.710\n",
      "Skew:                           1.023   Prob(JB):                     1.28e-40\n",
      "Kurtosis:                       6.036   Cond. No.                         210.\n",
      "==============================================================================\n",
      "\n",
      "Warnings:\n",
      "[1] Standard Errors assume that the covariance matrix of the errors is correctly specified.\n"
     ]
    }
   ],
   "source": [
    "print(results.summary())"
   ]
  }
 ],
 "metadata": {
  "kernelspec": {
   "display_name": "Python 2",
   "language": "python",
   "name": "python2"
  },
  "language_info": {
   "codemirror_mode": {
    "name": "ipython",
    "version": 2
   },
   "file_extension": ".py",
   "mimetype": "text/x-python",
   "name": "python",
   "nbconvert_exporter": "python",
   "pygments_lexer": "ipython2",
   "version": "2.7.13"
  }
 },
 "nbformat": 4,
 "nbformat_minor": 0
}
