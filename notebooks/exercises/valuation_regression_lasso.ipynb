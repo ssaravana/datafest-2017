{
 "cells": [
  {
   "cell_type": "markdown",
   "metadata": {
    "deletable": true,
    "editable": true
   },
   "source": [
    "# S&P 500 P/E Analysis - Regression Modeling - Model Selection Using L1  "
   ]
  },
  {
   "cell_type": "markdown",
   "metadata": {
    "deletable": true,
    "editable": true
   },
   "source": [
    "### Credit:\n",
    "    Data for this exercise is based on the S&P 500 companies fundamental data provided by Dominik Gawlik at\n",
    "    https://www.kaggle.com/dgawlik/nyse"
   ]
  },
  {
   "cell_type": "markdown",
   "metadata": {
    "deletable": true,
    "editable": true
   },
   "source": [
    "## Learning Objectives"
   ]
  },
  {
   "cell_type": "markdown",
   "metadata": {
    "deletable": true,
    "editable": true
   },
   "source": [
    "Run a basic regression using L1 regularization to conduct variable selection\n",
    "    * run a simple OLS\n",
    "    * analyze output\n",
    "    * run L1 regression\n",
    "    * interpret model parameters"
   ]
  },
  {
   "cell_type": "markdown",
   "metadata": {
    "deletable": true,
    "editable": true
   },
   "source": [
    "## Imports"
   ]
  },
  {
   "cell_type": "code",
   "execution_count": 1,
   "metadata": {
    "collapsed": true,
    "deletable": true,
    "editable": true
   },
   "outputs": [],
   "source": [
    "import pandas as pd\n",
    "import statsmodels.api as sms\n",
    "import sklearn.linear_model as lm"
   ]
  },
  {
   "cell_type": "markdown",
   "metadata": {
    "deletable": true,
    "editable": true
   },
   "source": [
    "## Get Data and Subset Data"
   ]
  },
  {
   "cell_type": "code",
   "execution_count": 2,
   "metadata": {
    "collapsed": false,
    "deletable": true,
    "editable": true,
    "scrolled": true
   },
   "outputs": [],
   "source": [
    "# Import data from the csv file\n",
    "df = pd.read_csv('data/relative_valuation.csv')\n",
    "\n",
    "# subset the dataframe removing rows with NULL values\n",
    "bix = df.notnull().all(axis=1)\n",
    "df = df[bix]"
   ]
  },
  {
   "cell_type": "markdown",
   "metadata": {
    "deletable": true,
    "editable": true
   },
   "source": [
    "## A First Regression Model Using All Variables"
   ]
  },
  {
   "cell_type": "code",
   "execution_count": 3,
   "metadata": {
    "collapsed": false,
    "deletable": true,
    "editable": true
   },
   "outputs": [],
   "source": [
    "columns = [ 'Pre-TaxROE',\n",
    "            'AfterTaxROE',\n",
    "            'CashRatio', \n",
    "           'QuickRatio',\n",
    "           'OperatingMargin',\n",
    "           'Pre-TaxMargin', \n",
    "           'profit_margin',\n",
    "           'operating_cash_flow_margin',\n",
    "           'debt_to_equity', \n",
    "           'debt_to_asset', \n",
    "           'capital_surplus_to_asset',\n",
    "           'Goodwill_to_asset',\n",
    "          ]"
   ]
  },
  {
   "cell_type": "code",
   "execution_count": 4,
   "metadata": {
    "collapsed": false,
    "deletable": true,
    "editable": true
   },
   "outputs": [],
   "source": [
    "model = sms.OLS(df['p/e'], df[columns])"
   ]
  },
  {
   "cell_type": "code",
   "execution_count": 5,
   "metadata": {
    "collapsed": false,
    "deletable": true,
    "editable": true
   },
   "outputs": [],
   "source": [
    "result = model.fit()"
   ]
  },
  {
   "cell_type": "markdown",
   "metadata": {
    "deletable": true,
    "editable": true
   },
   "source": [
    "Notes:\n",
    "\n",
    "* Adjusted R-Square at 0.778 indicates a resonably good model fit\n",
    "\n",
    "* Several variables are statistically significant\n",
    "  * Pre-TaxROE\n",
    "  * AfterTaxROE\n",
    "  * OperatingMargin\n",
    "  * Pre-TaxMargin\n",
    "  * profit_margin\n",
    "  * capital_surplus_to_asset\n",
    "  * goodwill_to_asset\n",
    "\n",
    "\n",
    " * Warning Signs\n",
    "  * Warning indicating strong multicollinearity\n",
    "  * Regression coefficients defies common sense\n",
    "    * AfterTaxROE coefficient (statistically significant) is negative (-2.5335) indicating a high valuation for firms with lower ROE\n",
    "    * Pre-TarMargin coefficient (statistically significant) is negative (-2.4156) indicating a high valuation for firms with lower margin.\n",
    "  \n",
    "  \n",
    "Large number of collinear variables.  How do we select ones that are useful yet uncorrelated?"
   ]
  },
  {
   "cell_type": "code",
   "execution_count": 6,
   "metadata": {
    "collapsed": false,
    "deletable": true,
    "editable": true
   },
   "outputs": [
    {
     "name": "stdout",
     "output_type": "stream",
     "text": [
      "                            OLS Regression Results                            \n",
      "==============================================================================\n",
      "Dep. Variable:                    p/e   R-squared:                       0.796\n",
      "Model:                            OLS   Adj. R-squared:                  0.778\n",
      "Method:                 Least Squares   F-statistic:                     43.67\n",
      "Date:                Fri, 24 Mar 2017   Prob (F-statistic):           2.25e-40\n",
      "Time:                        13:26:28   Log-Likelihood:                -562.01\n",
      "No. Observations:                 146   AIC:                             1148.\n",
      "Df Residuals:                     134   BIC:                             1184.\n",
      "Df Model:                          12                                         \n",
      "Covariance Type:            nonrobust                                         \n",
      "==============================================================================================\n",
      "                                 coef    std err          t      P>|t|      [0.025      0.975]\n",
      "----------------------------------------------------------------------------------------------\n",
      "Pre-TaxROE                     1.8896      0.335      5.638      0.000       1.227       2.552\n",
      "AfterTaxROE                   -2.5335      0.502     -5.045      0.000      -3.527      -1.540\n",
      "CashRatio                      0.0055      0.034      0.163      0.871      -0.061       0.072\n",
      "QuickRatio                     0.0208      0.022      0.960      0.339      -0.022       0.064\n",
      "OperatingMargin                0.8222      0.375      2.193      0.030       0.081       1.564\n",
      "Pre-TaxMargin                 -2.4156      0.525     -4.600      0.000      -3.454      -1.377\n",
      "profit_margin                  2.6847      0.716      3.748      0.000       1.268       4.101\n",
      "operating_cash_flow_margin    -0.1172      0.221     -0.531      0.596      -0.553       0.319\n",
      "debt_to_equity                 2.8825      2.912      0.990      0.324      -2.876       8.641\n",
      "debt_to_asset                  5.1293     15.475      0.331      0.741     -25.477      35.735\n",
      "capital_surplus_to_asset       0.2159      0.062      3.473      0.001       0.093       0.339\n",
      "Goodwill_to_asset              0.2354      0.074      3.171      0.002       0.089       0.382\n",
      "==============================================================================\n",
      "Omnibus:                       28.850   Durbin-Watson:                   2.002\n",
      "Prob(Omnibus):                  0.000   Jarque-Bera (JB):              134.961\n",
      "Skew:                           0.522   Prob(JB):                     4.94e-30\n",
      "Kurtosis:                       7.593   Cond. No.                     2.65e+03\n",
      "==============================================================================\n",
      "\n",
      "Warnings:\n",
      "[1] Standard Errors assume that the covariance matrix of the errors is correctly specified.\n",
      "[2] The condition number is large, 2.65e+03. This might indicate that there are\n",
      "strong multicollinearity or other numerical problems.\n"
     ]
    }
   ],
   "source": [
    "print(result.summary())"
   ]
  },
  {
   "cell_type": "markdown",
   "metadata": {
    "deletable": true,
    "editable": true
   },
   "source": [
    "### Variable selection using L1 regression"
   ]
  },
  {
   "cell_type": "markdown",
   "metadata": {
    "deletable": true,
    "editable": true
   },
   "source": [
    "Notes:\n",
    "    Good model should be less complex.\n",
    "        * fit L1 penalized model  \n",
    "        * we choose the model with the minimal bayes information criterion (bic)\n",
    "        * this will force an increasing number of the parameters to zero\n",
    "        * the nonzero variables are the selected variables\n",
    "        * last we will refit the \"best\" model and interpret the variables"
   ]
  },
  {
   "cell_type": "code",
   "execution_count": 7,
   "metadata": {
    "collapsed": true,
    "deletable": true,
    "editable": true
   },
   "outputs": [],
   "source": [
    "from sklearn import linear_model"
   ]
  },
  {
   "cell_type": "code",
   "execution_count": 8,
   "metadata": {
    "collapsed": false,
    "deletable": true,
    "editable": true
   },
   "outputs": [],
   "source": [
    "reg = linear_model.LassoLarsIC(normalize=True, criterion='bic')"
   ]
  },
  {
   "cell_type": "code",
   "execution_count": 9,
   "metadata": {
    "collapsed": false,
    "deletable": true,
    "editable": true
   },
   "outputs": [
    {
     "data": {
      "text/plain": [
       "LassoLarsIC(copy_X=True, criterion='bic', eps=2.2204460492503131e-16,\n",
       "      fit_intercept=True, max_iter=500, normalize=True, positive=False,\n",
       "      precompute='auto', verbose=False)"
      ]
     },
     "execution_count": 9,
     "metadata": {},
     "output_type": "execute_result"
    }
   ],
   "source": [
    "reg.fit(df[columns], df['p/e'])"
   ]
  },
  {
   "cell_type": "code",
   "execution_count": 10,
   "metadata": {
    "collapsed": false,
    "deletable": true,
    "editable": true
   },
   "outputs": [
    {
     "data": {
      "text/plain": [
       "array([ 0.        , -0.36885292,  0.        ,  0.        ,  0.        ,\n",
       "        0.        ,  0.        , -0.0952389 ,  0.        ,  0.        ,\n",
       "        0.05578808,  0.14554785])"
      ]
     },
     "execution_count": 10,
     "metadata": {},
     "output_type": "execute_result"
    }
   ],
   "source": [
    "reg.coef_"
   ]
  },
  {
   "cell_type": "markdown",
   "metadata": {
    "deletable": true,
    "editable": true
   },
   "source": [
    "#### Select non-zero variables\n",
    "\n",
    "Of the twelve variables, the selected four variables can explain the data just as good as all twelve combined."
   ]
  },
  {
   "cell_type": "code",
   "execution_count": 11,
   "metadata": {
    "collapsed": false,
    "deletable": true,
    "editable": true
   },
   "outputs": [
    {
     "data": {
      "text/plain": [
       "['AfterTaxROE',\n",
       " 'operating_cash_flow_margin',\n",
       " 'capital_surplus_to_asset',\n",
       " 'Goodwill_to_asset']"
      ]
     },
     "execution_count": 11,
     "metadata": {},
     "output_type": "execute_result"
    }
   ],
   "source": [
    "subset_columns = [columns[i] for i in range(len(columns)) if abs(reg.coef_[i])>0]\n",
    "subset_columns"
   ]
  },
  {
   "cell_type": "markdown",
   "metadata": {
    "deletable": true,
    "editable": true
   },
   "source": [
    "### Run regression on the \"simple\" model"
   ]
  },
  {
   "cell_type": "markdown",
   "metadata": {
    "deletable": true,
    "editable": true
   },
   "source": [
    "#### Build a new regression model using the selected variables"
   ]
  },
  {
   "cell_type": "code",
   "execution_count": 12,
   "metadata": {
    "collapsed": true,
    "deletable": true,
    "editable": true
   },
   "outputs": [],
   "source": [
    "model = sms.OLS(df['p/e'], df[subset_columns])"
   ]
  },
  {
   "cell_type": "code",
   "execution_count": 13,
   "metadata": {
    "collapsed": false,
    "deletable": true,
    "editable": true
   },
   "outputs": [],
   "source": [
    "result = model.fit()      "
   ]
  },
  {
   "cell_type": "markdown",
   "metadata": {
    "deletable": true,
    "editable": true
   },
   "source": [
    "Notes:\n",
    "    * Adjusted R-Square at 0.705\n",
    "    \n",
    "    * The coefficient for AfterTaxROE is positive indicating that firms with higher ROE will be valued more than firms with lower ROE.  Note that this coefficient was negative in our \"all-variable\" model.\n",
    "    \n",
    "    * operating_cash_flow_margin which as insignificant in our previous model is significant now.\n",
    "    \n",
    "    \n",
    "Interpretation:\n",
    "    \n",
    "    Keeping all things the same,\n",
    "    * 1% increase in AfterTaxROE increases the P/E by 0.4343\n",
    "    * 1% increase in operating cash flow margin increases the P/E by 0.1946\n",
    "    * 1% increase in surplus capital relative to the asset increases the P/E by 0.2852\n",
    "    * 1% increase in goodwill relative to the asset increases the P/E by 0.3120"
   ]
  },
  {
   "cell_type": "code",
   "execution_count": 14,
   "metadata": {
    "collapsed": false,
    "deletable": true,
    "editable": true,
    "scrolled": true
   },
   "outputs": [
    {
     "name": "stdout",
     "output_type": "stream",
     "text": [
      "                            OLS Regression Results                            \n",
      "==============================================================================\n",
      "Dep. Variable:                    p/e   R-squared:                       0.713\n",
      "Model:                            OLS   Adj. R-squared:                  0.705\n",
      "Method:                 Least Squares   F-statistic:                     88.13\n",
      "Date:                Fri, 24 Mar 2017   Prob (F-statistic):           1.73e-37\n",
      "Time:                        13:26:28   Log-Likelihood:                -587.10\n",
      "No. Observations:                 146   AIC:                             1182.\n",
      "Df Residuals:                     142   BIC:                             1194.\n",
      "Df Model:                           4                                         \n",
      "Covariance Type:            nonrobust                                         \n",
      "==============================================================================================\n",
      "                                 coef    std err          t      P>|t|      [0.025      0.975]\n",
      "----------------------------------------------------------------------------------------------\n",
      "AfterTaxROE                    0.4343      0.113      3.837      0.000       0.211       0.658\n",
      "operating_cash_flow_margin     0.1946      0.119      1.637      0.104      -0.040       0.430\n",
      "capital_surplus_to_asset       0.2853      0.068      4.182      0.000       0.150       0.420\n",
      "Goodwill_to_asset              0.3121      0.070      4.472      0.000       0.174       0.450\n",
      "==============================================================================\n",
      "Omnibus:                       30.633   Durbin-Watson:                   1.943\n",
      "Prob(Omnibus):                  0.000   Jarque-Bera (JB):               78.192\n",
      "Skew:                           0.823   Prob(JB):                     1.05e-17\n",
      "Kurtosis:                       6.185   Cond. No.                         4.63\n",
      "==============================================================================\n",
      "\n",
      "Warnings:\n",
      "[1] Standard Errors assume that the covariance matrix of the errors is correctly specified.\n"
     ]
    }
   ],
   "source": [
    "print(result.summary())"
   ]
  },
  {
   "cell_type": "code",
   "execution_count": null,
   "metadata": {
    "collapsed": true,
    "deletable": true,
    "editable": true
   },
   "outputs": [],
   "source": []
  }
 ],
 "metadata": {
  "kernelspec": {
   "display_name": "Python 2",
   "language": "python",
   "name": "python2"
  },
  "language_info": {
   "codemirror_mode": {
    "name": "ipython",
    "version": 2
   },
   "file_extension": ".py",
   "mimetype": "text/x-python",
   "name": "python",
   "nbconvert_exporter": "python",
   "pygments_lexer": "ipython2",
   "version": "2.7.13"
  }
 },
 "nbformat": 4,
 "nbformat_minor": 2
}
